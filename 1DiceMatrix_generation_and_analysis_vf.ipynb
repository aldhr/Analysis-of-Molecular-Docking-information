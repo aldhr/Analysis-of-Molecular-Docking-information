{
 "cells": [
  {
   "cell_type": "code",
   "execution_count": 1,
   "metadata": {},
   "outputs": [],
   "source": [
    "## Libraries used\n",
    "## for getting smiles\n",
    "from rdkit import Chem\n",
    "from rdkit.Chem import AllChem\n",
    "from rdkit import DataStructs\n",
    "from rdkit.Chem import Crippen\n",
    "from rdkit.Chem import Draw\n",
    "from rdkit.Chem.Descriptors import rdMolDescriptors\n",
    "from rdkit.Chem.Draw import MolToImage\n",
    "from rdkit.Chem import MolFromSmiles\n",
    "import time\n",
    "import pubchempy as pcp\n",
    "\n",
    "## making matrix\n",
    "from rdkit.Chem.Fingerprints import FingerprintMols\n",
    "from rdkit import DataStructs\n",
    "import pandas as pd\n",
    "\n",
    "## analysing the matrix \n",
    "from scipy.cluster.hierarchy import dendrogram, linkage, fcluster\n",
    "from sklearn.cluster import AgglomerativeClustering\n",
    "from matplotlib import pyplot as plt\n",
    "from sklearn.cluster import KMeans\n",
    "import seaborn as sns\n",
    "import pandas as pd\n",
    "import numpy as np"
   ]
  },
  {
   "cell_type": "code",
   "execution_count": 2,
   "metadata": {},
   "outputs": [],
   "source": [
    "## get list of smiles of repo\n",
    "# Set the API key\n",
    "pcp.api_key = \"17a4935adfc7ad19d0d6b7060db191df1409\"\n",
    "\n",
    "# Specify the PubChem CIDs of the compounds you want to retrieve\n",
    "repo_pubchem_ids = [448281, 159772, 19910, 11857239, 121304016, 492405, 24941262, 2130, 3961, 65999, 131411, 5284360, 5071, 2719, 3652, 44205240, 6167, 3117, 3194, 10621, 3035728, 4413, 92727, 392622, 213039, 25151504, 515964, 6440352, 123985, 146025593, 37542, 45375808, 145996610, 644241, 441243, 54682461, 148195, 23649154, 24873435, 54708673, 10206, 121304016, 492405, 76853649, 54670067, 5280793, 5280795, 6321424, 447043, 772, 6741, 10364, 45358157, 485707]\n",
    "## tripeptide: 16760365\n",
    "\n",
    "allium_pubchem_ids=[31256, 11617, 62434, 525331, 16590, 5352907, 5352855, 61926, 525328, 133337, 7439, 16315, 525330, 5352694, 5352693, 521863, 75552, 121922, 65036, 9881148, 5386591, 5281112, 9578071, 12305353, 11193907, 25203227]\n",
    "\n",
    "\n",
    "chunk_size = 1\n",
    " \n",
    "# Set the delay time in seconds\n",
    "delay = 20\n",
    "\n",
    "# Initialize lists to track the retrieved compounds and the CIDs that could not be retrieved\n",
    "compounds = []\n",
    "not_retrieved = []\n",
    "\n",
    "# Retrieve the compound objects from the PubChem database one by one\n",
    "for cid in repo_pubchem_ids:\n",
    "    success = False\n",
    "    while not success:\n",
    "        try:\n",
    "            compound = pcp.Compound.from_cid(cid)\n",
    "            compounds.append(compound)\n",
    "            success = True\n",
    "        except pcp.PubChemHTTPError as e:\n",
    "            if isinstance(e, pcp.NotFoundError):\n",
    "                not_retrieved.append(cid)\n",
    "                success = True\n",
    "            elif isinstance(e, pcp.RateLimitError):  # rate limit reached\n",
    "                print(\"Rate limit reached, waiting...\")\n",
    "                time.sleep(delay)\n",
    "            else:\n",
    "                raise e\n",
    "\n",
    "# Get the names and SMILES strings for the compounds and save them in a dictionary\n",
    "repodrugs = {}\n",
    "for compound in compounds:\n",
    "    drug_name = compound.synonyms[0] if compound.synonyms else None\n",
    "    repodrugs[drug_name] = compound.isomeric_smiles\n",
    "\n",
    "# Print a message for the CIDs that could not be retrieved\n",
    "if not_retrieved:\n",
    "    print(f\"The following CIDs could not be retrieved: {not_retrieved}\")\n"
   ]
  },
  {
   "cell_type": "code",
   "execution_count": 3,
   "metadata": {},
   "outputs": [],
   "source": [
    "## add manually tripeptie that has not synonymous in pubmed\n",
    "repodrugs[\"tripeptide\"] = \"CSCC(C(=O)NC(CCCN=C(N)N)C(=O)NC(CC1=CC=CC=C1)C(=O)NCCC2=CC=CC=C2)NC(=O)CC3=CC=C(C=C3)C4=CC=CC=C4\"\n",
    "repodrugs[\"compound10\"] = \"C1(=CC(=CC=C1C(=O)N(CC2=CC=CC(=C2)C(=O)N(C#N)COCC3=CC=CC(=C3)C(O)=O))F)F\""
   ]
  },
  {
   "cell_type": "code",
   "execution_count": 4,
   "metadata": {},
   "outputs": [],
   "source": [
    "## get list of smiles of allium\n",
    "## cid numbers are defined in previous cell\n",
    "chunk_size = 1\n",
    " \n",
    "# Set the delay time in seconds\n",
    "delay = 20\n",
    "\n",
    "# Initialize lists to track the retrieved compounds and the CIDs that could not be retrieved\n",
    "compounds = []\n",
    "not_retrieved = []\n",
    "\n",
    "# Retrieve the compound objects from the PubChem database one by one\n",
    "for cid in allium_pubchem_ids:\n",
    "    success = False\n",
    "    while not success:\n",
    "        try:\n",
    "            compound = pcp.Compound.from_cid(cid)\n",
    "            compounds.append(compound)\n",
    "            success = True\n",
    "        except pcp.PubChemHTTPError as e:\n",
    "            if isinstance(e, pcp.NotFoundError):\n",
    "                not_retrieved.append(cid)\n",
    "                success = True\n",
    "            elif isinstance(e, pcp.RateLimitError):  # rate limit reached\n",
    "                print(\"Rate limit reached, waiting...\")\n",
    "                time.sleep(delay)\n",
    "            else:\n",
    "                raise e\n",
    "\n",
    "# Get the names and SMILES strings for the compounds and save them in a dictionary\n",
    "alliumdrugs = {}\n",
    "for compound in compounds:\n",
    "    drug_name = compound.synonyms[0] if compound.synonyms else None\n",
    "    alliumdrugs[drug_name] = compound.isomeric_smiles\n",
    "\n",
    "# Print a message for the CIDs that could not be retrieved\n",
    "if not_retrieved:\n",
    "    print(f\"The following CIDs could not be retrieved: {not_retrieved}\")\n"
   ]
  },
  {
   "cell_type": "code",
   "execution_count": 5,
   "metadata": {},
   "outputs": [
    {
     "data": {
      "text/plain": [
       "80"
      ]
     },
     "execution_count": 5,
     "metadata": {},
     "output_type": "execute_result"
    }
   ],
   "source": [
    "##merge both sets[repo + allium]\n",
    "pool=dict(repodrugs,**alliumdrugs)\n",
    "len(pool)"
   ]
  },
  {
   "cell_type": "code",
   "execution_count": 6,
   "metadata": {},
   "outputs": [
    {
     "data": {
      "text/plain": [
       "'In addition to considering the characteristics of the dataset, \\nthere are a few other factors to consider when choosing between \\nJaccard and Dice coefficients for clustering:\\n\\nThe number of elements in each set: Jaccard index is sensitive to the size of the sets, \\nwhereas Dice coefficient is not. If the sets have different sizes, Jaccard index \\nmay not be appropriate.\\n\\nThe type of molecular fingerprints: Jaccard index is typically used with \\nbinary fingerprints, while Dice coefficient can be used with binary and \\ncontinuous fingerprints. If the dataset uses continuous fingerprints, \\nDice coefficient might be a better choice.\\n\\nThe type of clustering algorithm: Some clustering algorithms such as k-means\\n are sensitive to the scale of the similarity measure, while others such as \\n hierarchical clustering are not. This can affect the choice of similarity measure.\\n\\nThe computational cost: Jaccard index is computationally cheaper than Dice coefficient, \\nas it requires fewer operations to calculate. If computational resources are limited, \\nJaccard index may be a better choice.\\n\\nThe interpretability of the results: Jaccard index tends to give more \\ninterpretable results, as it focuses on the unique elements in each set. \\nDice coefficient tends to give more similar results for more similar sets, \\nbut might not be as interpretable.'"
      ]
     },
     "execution_count": 6,
     "metadata": {},
     "output_type": "execute_result"
    }
   ],
   "source": [
    "## why to use DICE coefficient?\n",
    "'''In chemoinformatics, the Jaccard index and Dice coefficient \n",
    "are both measures of similarity between sets of molecular fingerprints. \n",
    "\n",
    "The Jaccard index is the size of the intersection of two sets divided by \n",
    "the size of the union of the two sets, while the Dice coefficient is \n",
    "twice the size of the intersection divided by the sum of the sizes of the two sets.\n",
    "\n",
    " Both measures range from 0 (no similarity) to 1 (identical sets), \n",
    " but the Dice coefficient tends to give higher values for more similar sets. \n",
    " \n",
    " Both are commonly used in virtual screening, clustering and other applications\n",
    " where molecular similarity is important.'''\n",
    "\n",
    "'''The Jaccard index is typically used when the focus is on the unique elements\n",
    "in each set, and the proportion of those elements that overlap between the sets. \n",
    "This can be useful when comparing sets with a high degree of diversity, \n",
    "where the presence or absence of specific elements is more important than the overall overlap.\n",
    "\n",
    "On the other hand, the Dice coefficient is typically used when the focus is on \n",
    "the overall similarity between sets, rather than the specific elements that \n",
    "make up the sets. This can be useful when comparing sets with a high degree of similarity \n",
    "and the presence or absence of specific elements is less important than the overall overlap.'''\n",
    "\n",
    "\n",
    "'''When choosing between Jaccard and Dice coefficients for clustering, it is important to consider the characteristics of the dataset. Here are a few examples:\n",
    "\n",
    "If the dataset contains a high degree of structural diversity, the Jaccard index may be \n",
    "more appropriate, as it focuses on the unique elements in each set and the proportion of\n",
    "those elements that overlap between the sets. This can help to identify distinct clusters\n",
    "based on the presence or absence of specific features.\n",
    "\n",
    "If the dataset contains a high degree of structural similarity, \n",
    "the Dice coefficient may be more appropriate, as it focuses on the \n",
    "overall similarity between sets, rather than the specific elements \n",
    "that make up the sets. This can help to group similar structures together, \n",
    "even if they have some differences in the specific features.\n",
    "\n",
    "If the dataset contains structures with a high degree of symmetry, \n",
    "the Jaccard coefficient may be more appropriate, as it considers the presence \n",
    "and absence of specific features regardless of the order.\n",
    "\n",
    "If the dataset contains structures with multiple conformers, \n",
    "the Dice coefficient may be more appropriate, as it tends to give higher \n",
    "similarity scores.'''\n",
    "\n",
    "'''In addition to considering the characteristics of the dataset, \n",
    "there are a few other factors to consider when choosing between \n",
    "Jaccard and Dice coefficients for clustering:\n",
    "\n",
    "The number of elements in each set: Jaccard index is sensitive to the size of the sets, \n",
    "whereas Dice coefficient is not. If the sets have different sizes, Jaccard index \n",
    "may not be appropriate.\n",
    "\n",
    "The type of molecular fingerprints: Jaccard index is typically used with \n",
    "binary fingerprints, while Dice coefficient can be used with binary and \n",
    "continuous fingerprints. If the dataset uses continuous fingerprints, \n",
    "Dice coefficient might be a better choice.\n",
    "\n",
    "The type of clustering algorithm: Some clustering algorithms such as k-means\n",
    " are sensitive to the scale of the similarity measure, while others such as \n",
    " hierarchical clustering are not. This can affect the choice of similarity measure.\n",
    "\n",
    "The computational cost: Jaccard index is computationally cheaper than Dice coefficient, \n",
    "as it requires fewer operations to calculate. If computational resources are limited, \n",
    "Jaccard index may be a better choice.\n",
    "\n",
    "The interpretability of the results: Jaccard index tends to give more \n",
    "interpretable results, as it focuses on the unique elements in each set. \n",
    "Dice coefficient tends to give more similar results for more similar sets, \n",
    "but might not be as interpretable.'''"
   ]
  },
  {
   "cell_type": "code",
   "execution_count": 7,
   "metadata": {},
   "outputs": [],
   "source": [
    "## select dataset\n",
    "#smiles_dict = pool #or repo or allium\n",
    "smiles_dict= pool\n",
    "#pool"
   ]
  },
  {
   "cell_type": "code",
   "execution_count": 8,
   "metadata": {},
   "outputs": [],
   "source": [
    "## change labels according to project\n",
    "\n",
    "## old dict is call smiles_dict [this is going to work only if complete pool]\n",
    "## Create a dictionary of new labels\n",
    "new_labels = {'MLN-4760': 'INH01',\n",
    " '4-GUANIDINOBENZOIC ACID': 'INH02',\n",
    " 'NITROXOLINE': 'INH03',\n",
    " 'tripeptide': 'INH04',\n",
    " 'Narlaprevir': 'INV01',\n",
    " '1809249-37-3': 'INV02',\n",
    " 'Favipiravir': 'INV03',\n",
    " 'GRL0617': 'INV04',\n",
    " 'amantadine': 'INV05',\n",
    " 'losartan': 'RPA01',\n",
    " 'Telmisartan': 'RPA02',\n",
    " 'Arbidol': 'RPA03',\n",
    " 'Camostat mesylate': 'RPA04',\n",
    " 'rimantadine': 'RPA05',\n",
    " 'chloroquine': 'RPA06',\n",
    " 'hydroxychloroquine': 'RPA07',\n",
    " 'Baricitinib': 'RPA08',\n",
    " 'colchicine': 'RPA09',\n",
    " 'disulfiram': 'RPA10',\n",
    " 'ebselen': 'RPA11',\n",
    " 'hesperidin': 'RPA12',\n",
    " 'Qingdainone': 'RPA13',\n",
    " 'Nafamostat': 'RPA14',\n",
    " 'compound10': 'RPA15', \n",
    " 'Lopinavir': 'RPB01',\n",
    " 'ritonavir': 'RPB02',\n",
    " 'Darunavir': 'RPB03',\n",
    " 'Cobicistat': 'RPB04',\n",
    " 'SARS-CoV-2-IN-18': 'RPB05',\n",
    " 'Rupintrivir': 'RPB06',\n",
    " 'e-64': 'RPB07',\n",
    " 'Inhibitor N3': 'RPB08',\n",
    " 'ribavirin': 'RPC01',\n",
    " 'SOFOSBUVIR': 'RPC02',\n",
    " 'EIDD 2801': 'RPC03',\n",
    " 'Nilotinib': 'RPC04',\n",
    " 'SAQUINAVIR': 'RPC05',\n",
    " 'Tipranavir': 'RPC06',\n",
    " 'Lonafarnib': 'RPC07',\n",
    " 'Tegobuvir': 'RPC08',\n",
    " 'SIMEPREVIR': 'RPC09',\n",
    " 'Filibuvir': 'RPC10',\n",
    " 'CEPHARANTHINE': 'RPC11',\n",
    " 'rac5c': 'RPD01',\n",
    " 'ascorbic acid': 'EXT01',\n",
    " 'ergocalciferol': 'EXT02',\n",
    " 'Vitamin D3': 'EXT03',\n",
    " 'IVERMECTIN': 'EXT04',\n",
    " 'azithromycin': 'EXT05',\n",
    " 'enoxaparin': 'EXT06',\n",
    " 'methylprednisolone': 'EXT07',\n",
    " 'CARVACROL': 'EXT08',\n",
    " 'AKOS015965499': 'EXT09',\n",
    " 'oleanoic acid': 'EXT10',\n",
    " 'Diacetone alcohol': 'ALI01',\n",
    " 'DIALLYL SULFIDE': 'ALI02',\n",
    " 'ALLYL METHYL DISULFIDE': 'ALI03',\n",
    " '1,2-dithiole': 'ALI04',\n",
    " 'DIALLYL DISULFIDE': 'ALI05',\n",
    " '(E)-1-Propenyl 2-propenyl disulfide': 'ALI07',\n",
    " '2-Propenyl 1-propenyl disulfide': 'ALI06',\n",
    " 'ALLYL METHYL TRISULFIDE': 'ALI08',\n",
    " '3-Vinyl-1,2-dithiacyclohex-4-ene': 'ALI09',\n",
    " '2-Vinyl-4H-1,3-dithiine': 'ALI10',\n",
    " 'CARVONE': 'ALI11',\n",
    " 'Diallyl trisulfide': 'ALI12',\n",
    " 'allyl propyl trisulfide': 'ALI13',\n",
    " 'cis-1-Propenyl propyl trisulfide': 'ALI14',\n",
    " 'trans-1-Propenyl propyl trisulfide': 'ALI15',\n",
    " 'Methyl 1-propenyl disulfide': 'ALI16',\n",
    " 'Diallyl tetrasulfide': 'ALI17',\n",
    " 'Alliin': 'ALI18',\n",
    " 'Allicin': 'ALI19',\n",
    " '(Z)-Ajoene': 'ALI20',\n",
    " 'Ajoene': 'ALI21',\n",
    " 'isoalliin': 'ALI23',\n",
    " '32726-14-0': 'ALI22',\n",
    " '455-41-4': 'ALI24',\n",
    " 'N-gamma-Glutamyl-S-allylcysteine': 'ALI25',\n",
    " 'gamma-Glutamyl-S-1-propenyl cysteine': 'ALI26'}\n",
    "\n",
    "# Create a dictionary comprehension to map the old labels to the new labels\n",
    "smiles_dict = {new_labels[key]: value for key, value in smiles_dict.items()}"
   ]
  },
  {
   "cell_type": "code",
   "execution_count": 9,
   "metadata": {},
   "outputs": [
    {
     "data": {
      "text/plain": [
       "{'INH01': 'CC(C)C[C@@H](C(=O)O)N[C@@H](CC1=CN=CN1CC2=CC(=CC(=C2)Cl)Cl)C(=O)O',\n",
       " 'INH02': 'C1=CC(=CC=C1C(=O)O)N=C(N)N',\n",
       " 'INH03': 'C1=CC2=C(C=CC(=C2N=C1)O)[N+](=O)[O-]',\n",
       " 'INV01': 'CCCC[C@@H](C(=O)C(=O)NC1CC1)NC(=O)[C@@H]2[C@@H]3[C@@H](C3(C)C)CN2C(=O)[C@H](C(C)(C)C)NC(=O)NC4(CCCCC4)CS(=O)(=O)C(C)(C)C',\n",
       " 'INV02': 'CCC(CC)COC(=O)[C@H](C)N[P@](=O)(OC[C@@H]1[C@H]([C@H]([C@](O1)(C#N)C2=CC=C3N2N=CN=C3N)O)O)OC4=CC=CC=C4',\n",
       " 'INV03': 'C1=C(N=C(C(=O)N1)C(=O)N)F',\n",
       " 'INV04': 'CC1=C(C=C(C=C1)N)C(=O)N[C@H](C)C2=CC=CC3=CC=CC=C32',\n",
       " 'INV05': 'C1C2CC3CC1CC(C2)(C3)N',\n",
       " 'RPA01': 'CCCCC1=NC(=C(N1CC2=CC=C(C=C2)C3=CC=CC=C3C4=NNN=N4)CO)Cl',\n",
       " 'RPA02': 'CCCC1=NC2=C(N1CC3=CC=C(C=C3)C4=CC=CC=C4C(=O)O)C=C(C=C2C)C5=NC6=CC=CC=C6N5C',\n",
       " 'RPA03': 'CCOC(=O)C1=C(N(C2=CC(=C(C(=C21)CN(C)C)O)Br)C)CSC3=CC=CC=C3',\n",
       " 'RPA04': 'CN(C)C(=O)COC(=O)CC1=CC=C(C=C1)OC(=O)C2=CC=C(C=C2)N=C(N)N.CS(=O)(=O)O',\n",
       " 'RPA05': 'CC(C12CC3CC(C1)CC(C3)C2)N',\n",
       " 'RPA06': 'CCN(CC)CCCC(C)NC1=C2C=CC(=CC2=NC=C1)Cl',\n",
       " 'RPA07': 'CCN(CCCC(C)NC1=C2C=CC(=CC2=NC=C1)Cl)CCO',\n",
       " 'RPA08': 'CCS(=O)(=O)N1CC(C1)(CC#N)N2C=C(C=N2)C3=C4C=CNC4=NC=N3',\n",
       " 'RPA09': 'CC(=O)N[C@H]1CCC2=CC(=C(C(=C2C3=CC=C(C(=O)C=C13)OC)OC)OC)OC',\n",
       " 'RPA10': 'CCN(CC)C(=S)SSC(=S)N(CC)CC',\n",
       " 'RPA11': 'C1=CC=C(C=C1)N2C(=O)C3=CC=CC=C3[Se]2',\n",
       " 'RPA12': 'C[C@H]1[C@@H]([C@H]([C@H]([C@@H](O1)OC[C@@H]2[C@H]([C@@H]([C@H]([C@@H](O2)OC3=CC(=C4C(=O)C[C@H](OC4=C3)C5=CC(=C(C=C5)OC)O)O)O)O)O)O)O)O',\n",
       " 'RPA13': 'C1=CC=C2C(=C1)C(=O)/C(=C\\\\3/C4=CC=CC=C4N5C3=NC6=CC=CC=C6C5=O)/N2',\n",
       " 'RPA14': 'C1=CC(=CC=C1C(=O)OC2=CC3=C(C=C2)C=C(C=C3)C(=N)N)N=C(N)N',\n",
       " 'RPB01': 'CC1=C(C(=CC=C1)C)OCC(=O)N[C@@H](CC2=CC=CC=C2)[C@H](C[C@H](CC3=CC=CC=C3)NC(=O)[C@H](C(C)C)N4CCCNC4=O)O',\n",
       " 'RPB02': 'CC(C)C1=NC(=CS1)CN(C)C(=O)N[C@@H](C(C)C)C(=O)N[C@@H](CC2=CC=CC=C2)C[C@@H]([C@H](CC3=CC=CC=C3)NC(=O)OCC4=CN=CS4)O',\n",
       " 'RPB03': 'CC(C)CN(C[C@H]([C@H](CC1=CC=CC=C1)NC(=O)O[C@H]2CO[C@@H]3[C@H]2CCO3)O)S(=O)(=O)C4=CC=C(C=C4)N',\n",
       " 'RPB04': 'CC(C)C1=NC(=CS1)CN(C)C(=O)N[C@@H](CCN2CCOCC2)C(=O)N[C@H](CC[C@H](CC3=CC=CC=C3)NC(=O)OCC4=CN=CS4)CC5=CC=CC=C5',\n",
       " 'RPB05': 'C1=CC=C2C=C(C=CC2=C1)CN3C4=C(C=C(C=C4)C(=O)N)C(=O)C3=O',\n",
       " 'RPB06': 'CCOC(=O)/C=C/[C@H](C[C@@H]1CCNC1=O)NC(=O)[C@H](CC2=CC=C(C=C2)F)CC(=O)[C@H](C(C)C)NC(=O)C3=NOC(=C3)C',\n",
       " 'RPB07': 'CC(C)C[C@@H](C(=O)NCCCCN=C(N)N)NC(=O)[C@@H]1[C@H](O1)C(=O)O',\n",
       " 'RPB08': 'CC1=CC(=NO1)C(=O)N[C@@H](C)C(=O)N[C@@H](C(C)C)C(=O)N[C@@H](CC(C)C)C(=O)N[C@@H](C[C@@H]2CCNC2=O)/C=C\\\\C(=O)OCC3=CC=CC=C3',\n",
       " 'RPC01': 'C1=NC(=NN1[C@H]2[C@@H]([C@@H]([C@H](O2)CO)O)O)C(=O)N',\n",
       " 'RPC02': 'C[C@@H](C(=O)OC(C)C)N[P@](=O)(OC[C@@H]1[C@H]([C@@]([C@@H](O1)N2C=CC(=O)NC2=O)(C)F)O)OC3=CC=CC=C3',\n",
       " 'RPC03': 'CC(C)C(=O)OC[C@@H]1[C@H]([C@H]([C@@H](O1)N2C=CC(=NC2=O)NO)O)O',\n",
       " 'RPC04': 'CC1=C(C=C(C=C1)C(=O)NC2=CC(=CC(=C2)C(F)(F)F)N3C=C(N=C3)C)NC4=NC=CC(=N4)C5=CN=CC=C5',\n",
       " 'RPC05': 'CC(C)(C)NC(=O)[C@@H]1C[C@@H]2CCCC[C@@H]2CN1C[C@H]([C@H](CC3=CC=CC=C3)NC(=O)[C@H](CC(=O)N)NC(=O)C4=NC5=CC=CC=C5C=C4)O',\n",
       " 'RPC06': 'CCC[C@]1(CC(=C(C(=O)O1)[C@H](CC)C2=CC(=CC=C2)NS(=O)(=O)C3=NC=C(C=C3)C(F)(F)F)O)CCC4=CC=CC=C4',\n",
       " 'RPC07': 'C1CN(CCC1CC(=O)N2CCC(CC2)[C@@H]3C4=C(CCC5=C3N=CC(=C5)Br)C=C(C=C4Br)Cl)C(=O)N',\n",
       " 'RPC08': 'C1=CC=C(C(=C1)C2=NC3=CN(C=CC3=N2)CC4=NN=C(C=C4)C5=C(C=C(C=C5)C(F)(F)F)C(F)(F)F)F',\n",
       " 'RPC09': 'CC1=C(C=CC2=C1N=C(C=C2O[C@@H]3C[C@@H]4[C@@H](C3)C(=O)N(CCCC/C=C\\\\[C@@H]5C[C@]5(NC4=O)C(=O)NS(=O)(=O)C6CC6)C)C7=NC(=CS7)C(C)C)OC',\n",
       " 'RPC10': 'CCC1=CC(=CC(=N1)CC)CC[C@@]2(CC(=C(C(=O)O2)CC3=NN4C(=CC(=NC4=N3)C)C)O)C5CCCC5',\n",
       " 'RPC11': 'CN1CCC2=CC3=C(C4=C2[C@@H]1CC5=CC=C(C=C5)OC6=C(C=CC(=C6)C[C@@H]7C8=CC(=C(C=C8CCN7C)OC)O4)OC)OCO3',\n",
       " 'RPD01': 'CC(C1=CC=CC2=CC=CC=C21)N3CCC(CC3)C(=O)NCC4=CC(=NC=C4)OC',\n",
       " 'EXT01': 'C([C@@H]([C@@H]1C(=C(C(=O)O1)O)O)O)O',\n",
       " 'EXT02': 'C[C@H](/C=C/[C@H](C)C(C)C)[C@H]1CC[C@@H]\\\\2[C@@]1(CCC/C2=C\\\\C=C/3\\\\C[C@H](CCC3=C)O)C',\n",
       " 'EXT03': 'C[C@H](CCCC(C)C)[C@H]1CC[C@@H]\\\\2[C@@]1(CCC/C2=C\\\\C=C/3\\\\C[C@H](CCC3=C)O)C',\n",
       " 'EXT04': 'CC[C@H](C)[C@@H]1[C@H](CC[C@@]2(O1)C[C@@H]3C[C@H](O2)C/C=C(/[C@H]([C@H](/C=C/C=C/4\\\\CO[C@H]5[C@@]4([C@@H](C=C([C@H]5O)C)C(=O)O3)O)C)O[C@H]6C[C@@H]([C@H]([C@@H](O6)C)O[C@H]7C[C@@H]([C@H]([C@@H](O7)C)O)OC)OC)\\\\C)C',\n",
       " 'EXT05': 'CC[C@@H]1[C@@]([C@@H]([C@H](N(C[C@@H](C[C@@]([C@@H]([C@H]([C@@H]([C@H](C(=O)O1)C)O[C@H]2C[C@@]([C@H]([C@@H](O2)C)O)(C)OC)C)O[C@H]3[C@@H]([C@H](C[C@H](O3)C)N(C)C)O)(C)O)C)C)C)O)(C)O',\n",
       " 'EXT06': 'CC(=O)NC1C(C(C(OC1O)COS(=O)(=O)O)OC2C(C(C(C(O2)C(=O)O)OC3C(C(C(C(O3)CO)OC4C(C(C(C(O4)C(=O)O)O)O)OS(=O)(=O)O)OS(=O)(=O)O)NS(=O)(=O)O)O)OS(=O)(=O)O)O',\n",
       " 'EXT07': 'C[C@H]1C[C@H]2[C@@H]3CC[C@@]([C@]3(C[C@@H]([C@@H]2[C@@]4(C1=CC(=O)C=C4)C)O)C)(C(=O)CO)O',\n",
       " 'EXT08': 'CC1=C(C=C(C=C1)C(C)C)O',\n",
       " 'EXT09': 'CC1CCC2(CCC3(C(=CCC4C3(CCC5C4(CC[C@H](C5(C)C)O)C)C)C2C1C)C)C(=O)O',\n",
       " 'EXT10': 'C[C@]12CC[C@H](C(C1CC[C@@]3(C2CC=C4[C@]3(CC[C@@]5(C4CC(CC5)(C)C)C(=O)O)C)C)(C)C)O',\n",
       " 'INH04': 'CSCC(C(=O)NC(CCCN=C(N)N)C(=O)NC(CC1=CC=CC=C1)C(=O)NCCC2=CC=CC=C2)NC(=O)CC3=CC=C(C=C3)C4=CC=CC=C4',\n",
       " 'RPA15': 'C1(=CC(=CC=C1C(=O)N(CC2=CC=CC(=C2)C(=O)N(C#N)COCC3=CC=CC(=C3)C(O)=O))F)F',\n",
       " 'ALI01': 'CC(=O)CC(C)(C)O',\n",
       " 'ALI02': 'C=CCSCC=C',\n",
       " 'ALI03': 'CSSCC=C',\n",
       " 'ALI04': 'C1C=CSS1',\n",
       " 'ALI05': 'C=CCSSCC=C',\n",
       " 'ALI07': 'C/C=C\\\\SSCC=C',\n",
       " 'ALI06': 'C/C=C/SSCC=C',\n",
       " 'ALI08': 'CSSSCC=C',\n",
       " 'ALI09': 'C=CC1C=CCSS1',\n",
       " 'ALI10': 'C=CC1SCC=CS1',\n",
       " 'ALI11': 'CC1=CCC(CC1=O)C(=C)C',\n",
       " 'ALI12': 'C=CCSSSCC=C',\n",
       " 'ALI13': 'CCCSSSCC=C',\n",
       " 'ALI14': 'CCCSSS/C=C\\\\C',\n",
       " 'ALI15': 'CCCSSS/C=C/C',\n",
       " 'ALI16': 'CC=CSSC',\n",
       " 'ALI17': 'C=CCSSSSCC=C',\n",
       " 'ALI18': 'C=CCS(=O)CC(C(=O)O)N',\n",
       " 'ALI19': 'C=CCSS(=O)CC=C',\n",
       " 'ALI20': 'C=CCSS/C=C\\\\CS(=O)CC=C',\n",
       " 'ALI21': 'C=CCSS/C=C/CS(=O)CC=C',\n",
       " 'ALI23': 'C/C=C/S(=O)C[C@@H](C(=O)O)N',\n",
       " 'ALI22': 'C[S@](=O)C[C@@H](C(=O)O)N',\n",
       " 'ALI24': 'C[C@H]1C[S@](=O)C[C@H](N1)C(=O)O',\n",
       " 'ALI25': 'C=CCSCC(C(=O)O)NC(=O)CCC(C(=O)O)N',\n",
       " 'ALI26': 'CC=CSCC(C(=O)O)NC(=O)CCC(C(=O)O)N'}"
      ]
     },
     "execution_count": 9,
     "metadata": {},
     "output_type": "execute_result"
    }
   ],
   "source": [
    "smiles_dict"
   ]
  },
  {
   "cell_type": "code",
   "execution_count": 10,
   "metadata": {},
   "outputs": [],
   "source": [
    "## Calculate a Dice matrix\n",
    "\n",
    "# Create a list of RDKit fingerprints\n",
    "fp_list = [AllChem.GetMorganFingerprintAsBitVect(Chem.MolFromSmiles(s), 2) for s in smiles_dict.values()]\n",
    "\n",
    "# Create an empty matrix with the same number of rows and columns as the number of fingerprints\n",
    "matrix = [[0 for _ in range(len(fp_list))] for _ in range(len(fp_list))]\n",
    "\n",
    "# Fill the matrix with Tanimoto or Dice coefficients\n",
    "##DiceSimilarity or TanimotoSimilarity \n",
    "for i in range(len(fp_list)):\n",
    "    for j in range(i, len(fp_list)):\n",
    "        matrix[i][j] = DataStructs.DiceSimilarity(fp_list[i], fp_list[j])\n",
    "        matrix[j][i] = matrix[i][j]\n",
    "\n",
    "# Get the labels from the dictionary\n",
    "labels = list(smiles_dict.keys())\n",
    "\n",
    "# Create a DataFrame from the matrix and labels\n",
    "matrix = pd.DataFrame(matrix, columns=labels, index=labels)\n",
    "\n",
    "# Print the DataFrame\n",
    "matrix.to_csv('DiceMatrix.csv')"
   ]
  },
  {
   "cell_type": "code",
   "execution_count": 11,
   "metadata": {},
   "outputs": [
    {
     "data": {
      "text/plain": [
       "<seaborn.matrix.ClusterGrid at 0x7fa094137910>"
      ]
     },
     "execution_count": 11,
     "metadata": {},
     "output_type": "execute_result"
    },
    {
     "data": {
      "image/png": "[encoded data removed]",
      "text/plain": [
       "<Figure size 1500x1200 with 4 Axes>"
      ]
     },
     "metadata": {},
     "output_type": "display_data"
    }
   ],
   "source": [
    "# Plot corralation matrix\n",
    "correlations = matrix.corr()\n",
    "sns.clustermap(correlations, method=\"complete\", cmap='RdBu', annot=False,\n",
    "               annot_kws={\"size\": 7},\n",
    "               vmin=-1, vmax=1, figsize=(15, 12))\n"
   ]
  },
  {
   "cell_type": "code",
   "execution_count": 12,
   "metadata": {},
   "outputs": [
    {
     "name": "stdout",
     "output_type": "stream",
     "text": [
      "Number of clusters: 5\n"
     ]
    },
    {
     "data": {
      "image/png": "[encoded data removed]",
      "text/plain": [
       "<Figure size 1000x200 with 1 Axes>"
      ]
     },
     "metadata": {},
     "output_type": "display_data"
    }
   ],
   "source": [
    "# How many clusters?\n",
    "# Determine number of clusters using the fcluster function\n",
    "Z = linkage(correlations, method=\"complete\")\n",
    "max_d = 3.1\n",
    "fclusters = fcluster(Z, max_d, criterion='distance')\n",
    "\n",
    "# Print the number of clusters\n",
    "n_clusters = len(set(fclusters))\n",
    "print(f'Number of clusters: {n_clusters}')\n",
    "plt.figure(figsize=(10, 2))\n",
    "dendrogram = dendrogram(Z, color_threshold=max_d, labels=correlations.index)\n"
   ]
  },
  {
   "cell_type": "code",
   "execution_count": 13,
   "metadata": {},
   "outputs": [
    {
     "name": "stderr",
     "output_type": "stream",
     "text": [
      "/home/ahr/.local/lib/python3.10/site-packages/sklearn/cluster/_kmeans.py:870: FutureWarning: The default value of `n_init` will change from 10 to 'auto' in 1.4. Set the value of `n_init` explicitly to suppress the warning\n",
      "  warnings.warn(\n"
     ]
    }
   ],
   "source": [
    "#PCA\n",
    "from sklearn.decomposition import PCA\n",
    "from sklearn.cluster import KMeans\n",
    "\n",
    "# Apply PCA to the data\n",
    "pca = PCA(n_components=3)\n",
    "transformed_data = pca.fit_transform(correlations)\n",
    "\n",
    "# Perform clustering on the transformed data\n",
    "kmeans = KMeans(n_clusters=n_clusters)\n",
    "clusters2 = kmeans.fit_predict(transformed_data)"
   ]
  },
  {
   "cell_type": "code",
   "execution_count": 14,
   "metadata": {},
   "outputs": [
    {
     "data": {
      "application/vnd.plotly.v1+json": {
       "config": {
        "plotlyServerURL": "https://plot.ly"
       },
       "data": [
        {
         "hovertemplate": "<b>%{hovertext}</b><br><br>PC1=%{x}<br>PC2=%{y}<br>PC3=%{z}<br>cluster=%{marker.color}<extra></extra>",
         "hovertext": [
          "INH01",
          "INH02",
          "INH03",
          "INV01",
          "INV02",
          "INV03",
          "INV04",
          "INV05",
          "RPA01",
          "RPA02",
          "RPA03",
          "RPA04",
          "RPA05",
          "RPA06",
          "RPA07",
          "RPA08",
          "RPA09",
          "RPA10",
          "RPA11",
          "RPA12",
          "RPA13",
          "RPA14",
          "RPB01",
          "RPB02",
          "RPB03",
          "RPB04",
          "RPB05",
          "RPB06",
          "RPB07",
          "RPB08",
          "RPC01",
          "RPC02",
          "RPC03",
          "RPC04",
          "RPC05",
          "RPC06",
          "RPC07",
          "RPC08",
          "RPC09",
          "RPC10",
          "RPC11",
          "RPD01",
          "EXT01",
          "EXT02",
          "EXT03",
          "EXT04",
          "EXT05",
          "EXT06",
          "EXT07",
          "EXT08",
          "EXT09",
          "EXT10",
          "INH04",
          "RPA15",
          "ALI01",
          "ALI02",
          "ALI03",
          "ALI04",
          "ALI05",
          "ALI07",
          "ALI06",
          "ALI08",
          "ALI09",
          "ALI10",
          "ALI11",
          "ALI12",
          "ALI13",
          "ALI14",
          "ALI15",
          "ALI16",
          "ALI17",
          "ALI18",
          "ALI19",
          "ALI20",
          "ALI21",
          "ALI23",
          "ALI22",
          "ALI24",
          "ALI25",
          "ALI26"
         ],
         "legendgroup": "",
         "marker": {
          "color": [
           0,
           0,
           0,
           2,
           0,
           0,
           0,
           4,
           0,
           0,
           0,
           0,
           4,
           0,
           0,
           0,
           0,
           3,
           0,
           2,
           0,
           0,
           0,
           0,
           0,
           0,
           0,
           0,
           2,
           0,
           0,
           0,
           0,
           0,
           0,
           0,
           0,
           0,
           0,
           0,
           2,
           0,
           2,
           4,
           4,
           2,
           2,
           2,
           2,
           0,
           2,
           2,
           0,
           0,
           3,
           1,
           1,
           4,
           1,
           1,
           1,
           1,
           1,
           1,
           2,
           1,
           1,
           1,
           1,
           1,
           1,
           3,
           1,
           1,
           1,
           3,
           3,
           2,
           3,
           3
          ],
          "coloraxis": "coloraxis",
          "symbol": "circle"
         },
         "mode": "markers",
         "name": "",
         "scene": "scene",
         "showlegend": false,
         "type": "scatter3d",
         "x": [
          -2.2191003128337012,
          -1.8595569921313078,
          -2.2713623180287823,
          -1.1525888288557438,
          -2.4479066489067014,
          -2.0680263562748578,
          -2.748428472864521,
          0.38542360689597294,
          -1.8000930620648306,
          -2.2494746345023313,
          -1.7895849651705653,
          -1.861182472878928,
          0.09946920897920215,
          -1.2121963808137828,
          -1.4074994641201304,
          -1.680977680594272,
          -2.3565020015235225,
          2.115764927180937,
          -2.0898126478244725,
          -1.7656731716318224,
          -2.1384417743670063,
          -1.9181860637407582,
          -2.7140732069859905,
          -2.238976995777003,
          -2.527323095592631,
          -2.3285653110243874,
          -2.482243714227834,
          -2.2529251327559314,
          -0.9234616513271517,
          -2.3409265928190854,
          -1.885882358501945,
          -2.4819078147018803,
          -2.551072552393634,
          -2.3960090002199235,
          -2.670484666224503,
          -2.0549639594496356,
          -1.885801597368073,
          -1.5191661827864267,
          -2.3504704150893656,
          -1.891984566993341,
          -1.370305354168806,
          -2.9653749024695166,
          -1.2370214963758897,
          -0.014062286039294753,
          0.3692753954582289,
          -1.142006654703287,
          -1.2348115826023918,
          -0.3933284884209111,
          -1.1220291659828918,
          -1.5950299425277148,
          -1.355685811214113,
          -1.396355827236938,
          -1.8662401707795435,
          -2.2744934297947066,
          0.33474994504495187,
          5.293181463218544,
          5.388045531180154,
          0.6263799317025852,
          5.390707667764641,
          5.443470590550863,
          5.443470590550863,
          5.374078597430899,
          3.255856777704233,
          3.143225346338016,
          -0.8662894412296829,
          5.368208170514578,
          5.311381078678814,
          4.2853622702834375,
          4.2853622702834375,
          4.192262490253261,
          5.372957327248589,
          2.968781669922461,
          4.980577201224325,
          5.087391515905263,
          5.087391515905263,
          1.5250161957460178,
          0.7320640502583527,
          -0.8084946285568859,
          2.947791534341781,
          1.3667153749036887
         ],
         "y": [
          -0.8581068553724223,
          -0.4467863516013746,
          0.06007391373496745,
          0.23995326706405967,
          -0.09156849883500422,
          -0.12229471590121584,
          -0.6056005855580763,
          1.634685029365338,
          -0.34714346605005186,
          -0.553639767743582,
          -0.6380570986718713,
          -0.5332814535526772,
          1.1929367030570897,
          -0.12627052236966832,
          -0.1605034142703419,
          0.24400607955568152,
          0.5523892321559155,
          -0.31177572652161883,
          0.0375706867457237,
          0.6980463905059591,
          0.0714486231765943,
          -0.30630979957536597,
          -0.4597877532392528,
          -0.6345508570310724,
          -0.35624262143868046,
          -0.5527834706657311,
          -0.5435605989212056,
          -0.2319653891777513,
          -0.7840939412510799,
          -0.3390613087547885,
          -0.11345663091011493,
          -0.05235006971543527,
          -0.20016245860420703,
          -0.27600139364005183,
          -0.34385832067671007,
          -0.1700015696916502,
          0.20544321468276544,
          -0.0189268624411168,
          0.5605858193405411,
          0.38802088947994745,
          0.9066319022311811,
          -0.2558202073496236,
          0.06769684232394527,
          1.1872617684396956,
          1.1237881457820318,
          1.0380558300170621,
          0.9100130230977271,
          0.16344244556522156,
          0.942841701785759,
          -0.020624427814308302,
          1.0669751980243007,
          1.103329012170616,
          -1.071919574498142,
          -0.5285108898865942,
          -0.581995812945545,
          -0.020571433713254365,
          -0.06138717719626128,
          1.5838937819076344,
          -0.012437598794964774,
          -0.20372463989570871,
          -0.20372463989570871,
          -0.04977713455698259,
          1.4226717720798159,
          1.3147522189939944,
          1.0551686944793652,
          -0.008542620418286392,
          -0.08757777498248276,
          -0.31541844095564464,
          -0.31541844095564464,
          -0.20894338597243847,
          -0.008772420469127323,
          -0.8478963936878788,
          -0.1679325828340231,
          -0.17089398378301293,
          -0.17089398378301293,
          -1.1510574693995776,
          -1.0459487322370549,
          0.3962713768461745,
          -1.1444900107606826,
          -1.3355322836410355
         ],
         "z": [
          0.15857194620975062,
          0.07523794690715828,
          -0.7797864242537351,
          0.6207431342106842,
          0.07022468229371602,
          -0.15550622618872553,
          -0.2665730550282863,
          0.5808234442880069,
          -1.0258439029794555,
          -0.8156427988799602,
          -0.419658200994325,
          -0.009735751183078251,
          0.902048928920569,
          -0.6355363169480963,
          -0.5465142038740027,
          -0.6329988375644618,
          0.10557944045385705,
          0.13122588682034728,
          -0.8966388342996297,
          0.2040811433791522,
          -0.9988833100744864,
          -0.13868491492894153,
          -0.032672889866785265,
          -0.12965198662900418,
          0.21202588397025007,
          -0.12201395277270669,
          -0.5890308029590396,
          0.008250534966467826,
          0.9620086347523733,
          0.10568826113412565,
          0.42301392893690265,
          0.1650226986194583,
          0.21682514969720404,
          -0.7359911129039464,
          0.1043942432512383,
          -0.5715023533932814,
          -0.08877689687605086,
          -1.23585050191284,
          -0.20071323631742755,
          -0.3510583676761571,
          -0.3947647208568304,
          -0.3380405672187215,
          0.26726785268793757,
          0.6950130744932211,
          0.7736578676037187,
          0.3530223976932422,
          0.39934661759179446,
          0.750087400829815,
          0.6930061174450552,
          -0.2672423088298927,
          0.8023328592361606,
          0.8617349629831348,
          0.1858400701056903,
          -0.45300787083649346,
          0.7423088161918177,
          -0.38690645180548333,
          -0.36179274866109984,
          -0.5767727496325742,
          -0.44005356620613384,
          -0.22238600735566524,
          -0.22238600735566524,
          -0.38533174928930053,
          -0.4497552451610288,
          -0.5325675894693277,
          0.3292741607722536,
          -0.46044031670745744,
          -0.4234186787617825,
          -0.11224264122635028,
          -0.11224264122635028,
          0.04161005716848316,
          -0.4584329342666274,
          0.9990863024133034,
          -0.12941332298406258,
          -0.1323266246665476,
          -0.1323266246665476,
          1.293629654822051,
          1.3502462296414535,
          0.9769492922577265,
          0.7185894348113921,
          1.0923471881288516
         ]
        }
       ],
       "layout": {
        "coloraxis": {
         "colorbar": {
          "title": {
           "text": "cluster"
          }
         },
         "colorscale": [
          [
           0,
           "#0d0887"
          ],
          [
           0.1111111111111111,
           "#46039f"
          ],
          [
           0.2222222222222222,
           "#7201a8"
          ],
          [
           0.3333333333333333,
           "#9c179e"
          ],
          [
           0.4444444444444444,
           "#bd3786"
          ],
          [
           0.5555555555555556,
           "#d8576b"
          ],
          [
           0.6666666666666666,
           "#ed7953"
          ],
          [
           0.7777777777777778,
           "#fb9f3a"
          ],
          [
           0.8888888888888888,
           "#fdca26"
          ],
          [
           1,
           "#f0f921"
          ]
         ]
        },
        "legend": {
         "tracegroupgap": 0
        },
        "margin": {
         "t": 60
        },
        "scene": {
         "domain": {
          "x": [
           0,
           1
          ],
          "y": [
           0,
           1
          ]
         },
         "xaxis": {
          "title": {
           "text": "PC1"
          }
         },
         "yaxis": {
          "title": {
           "text": "PC2"
          }
         },
         "zaxis": {
          "title": {
           "text": "PC3"
          }
         }
        },
        "template": {
         "data": {
          "bar": [
           {
            "error_x": {
             "color": "#2a3f5f"
            },
            "error_y": {
             "color": "#2a3f5f"
            },
            "marker": {
             "line": {
              "color": "#E5ECF6",
              "width": 0.5
             },
             "pattern": {
              "fillmode": "overlay",
              "size": 10,
              "solidity": 0.2
             }
            },
            "type": "bar"
           }
          ],
          "barpolar": [
           {
            "marker": {
             "line": {
              "color": "#E5ECF6",
              "width": 0.5
             },
             "pattern": {
              "fillmode": "overlay",
              "size": 10,
              "solidity": 0.2
             }
            },
            "type": "barpolar"
           }
          ],
          "carpet": [
           {
            "aaxis": {
             "endlinecolor": "#2a3f5f",
             "gridcolor": "white",
             "linecolor": "white",
             "minorgridcolor": "white",
             "startlinecolor": "#2a3f5f"
            },
            "baxis": {
             "endlinecolor": "#2a3f5f",
             "gridcolor": "white",
             "linecolor": "white",
             "minorgridcolor": "white",
             "startlinecolor": "#2a3f5f"
            },
            "type": "carpet"
           }
          ],
          "choropleth": [
           {
            "colorbar": {
             "outlinewidth": 0,
             "ticks": ""
            },
            "type": "choropleth"
           }
          ],
          "contour": [
           {
            "colorbar": {
             "outlinewidth": 0,
             "ticks": ""
            },
            "colorscale": [
             [
              0,
              "#0d0887"
             ],
             [
              0.1111111111111111,
              "#46039f"
             ],
             [
              0.2222222222222222,
              "#7201a8"
             ],
             [
              0.3333333333333333,
              "#9c179e"
             ],
             [
              0.4444444444444444,
              "#bd3786"
             ],
             [
              0.5555555555555556,
              "#d8576b"
             ],
             [
              0.6666666666666666,
              "#ed7953"
             ],
             [
              0.7777777777777778,
              "#fb9f3a"
             ],
             [
              0.8888888888888888,
              "#fdca26"
             ],
             [
              1,
              "#f0f921"
             ]
            ],
            "type": "contour"
           }
          ],
          "contourcarpet": [
           {
            "colorbar": {
             "outlinewidth": 0,
             "ticks": ""
            },
            "type": "contourcarpet"
           }
          ],
          "heatmap": [
           {
            "colorbar": {
             "outlinewidth": 0,
             "ticks": ""
            },
            "colorscale": [
             [
              0,
              "#0d0887"
             ],
             [
              0.1111111111111111,
              "#46039f"
             ],
             [
              0.2222222222222222,
              "#7201a8"
             ],
             [
              0.3333333333333333,
              "#9c179e"
             ],
             [
              0.4444444444444444,
              "#bd3786"
             ],
             [
              0.5555555555555556,
              "#d8576b"
             ],
             [
              0.6666666666666666,
              "#ed7953"
             ],
             [
              0.7777777777777778,
              "#fb9f3a"
             ],
             [
              0.8888888888888888,
              "#fdca26"
             ],
             [
              1,
              "#f0f921"
             ]
            ],
            "type": "heatmap"
           }
          ],
          "heatmapgl": [
           {
            "colorbar": {
             "outlinewidth": 0,
             "ticks": ""
            },
            "colorscale": [
             [
              0,
              "#0d0887"
             ],
             [
              0.1111111111111111,
              "#46039f"
             ],
             [
              0.2222222222222222,
              "#7201a8"
             ],
             [
              0.3333333333333333,
              "#9c179e"
             ],
             [
              0.4444444444444444,
              "#bd3786"
             ],
             [
              0.5555555555555556,
              "#d8576b"
             ],
             [
              0.6666666666666666,
              "#ed7953"
             ],
             [
              0.7777777777777778,
              "#fb9f3a"
             ],
             [
              0.8888888888888888,
              "#fdca26"
             ],
             [
              1,
              "#f0f921"
             ]
            ],
            "type": "heatmapgl"
           }
          ],
          "histogram": [
           {
            "marker": {
             "pattern": {
              "fillmode": "overlay",
              "size": 10,
              "solidity": 0.2
             }
            },
            "type": "histogram"
           }
          ],
          "histogram2d": [
           {
            "colorbar": {
             "outlinewidth": 0,
             "ticks": ""
            },
            "colorscale": [
             [
              0,
              "#0d0887"
             ],
             [
              0.1111111111111111,
              "#46039f"
             ],
             [
              0.2222222222222222,
              "#7201a8"
             ],
             [
              0.3333333333333333,
              "#9c179e"
             ],
             [
              0.4444444444444444,
              "#bd3786"
             ],
             [
              0.5555555555555556,
              "#d8576b"
             ],
             [
              0.6666666666666666,
              "#ed7953"
             ],
             [
              0.7777777777777778,
              "#fb9f3a"
             ],
             [
              0.8888888888888888,
              "#fdca26"
             ],
             [
              1,
              "#f0f921"
             ]
            ],
            "type": "histogram2d"
           }
          ],
          "histogram2dcontour": [
           {
            "colorbar": {
             "outlinewidth": 0,
             "ticks": ""
            },
            "colorscale": [
             [
              0,
              "#0d0887"
             ],
             [
              0.1111111111111111,
              "#46039f"
             ],
             [
              0.2222222222222222,
              "#7201a8"
             ],
             [
              0.3333333333333333,
              "#9c179e"
             ],
             [
              0.4444444444444444,
              "#bd3786"
             ],
             [
              0.5555555555555556,
              "#d8576b"
             ],
             [
              0.6666666666666666,
              "#ed7953"
             ],
             [
              0.7777777777777778,
              "#fb9f3a"
             ],
             [
              0.8888888888888888,
              "#fdca26"
             ],
             [
              1,
              "#f0f921"
             ]
            ],
            "type": "histogram2dcontour"
           }
          ],
          "mesh3d": [
           {
            "colorbar": {
             "outlinewidth": 0,
             "ticks": ""
            },
            "type": "mesh3d"
           }
          ],
          "parcoords": [
           {
            "line": {
             "colorbar": {
              "outlinewidth": 0,
              "ticks": ""
             }
            },
            "type": "parcoords"
           }
          ],
          "pie": [
           {
            "automargin": true,
            "type": "pie"
           }
          ],
          "scatter": [
           {
            "fillpattern": {
             "fillmode": "overlay",
             "size": 10,
             "solidity": 0.2
            },
            "type": "scatter"
           }
          ],
          "scatter3d": [
           {
            "line": {
             "colorbar": {
              "outlinewidth": 0,
              "ticks": ""
             }
            },
            "marker": {
             "colorbar": {
              "outlinewidth": 0,
              "ticks": ""
             }
            },
            "type": "scatter3d"
           }
          ],
          "scattercarpet": [
           {
            "marker": {
             "colorbar": {
              "outlinewidth": 0,
              "ticks": ""
             }
            },
            "type": "scattercarpet"
           }
          ],
          "scattergeo": [
           {
            "marker": {
             "colorbar": {
              "outlinewidth": 0,
              "ticks": ""
             }
            },
            "type": "scattergeo"
           }
          ],
          "scattergl": [
           {
            "marker": {
             "colorbar": {
              "outlinewidth": 0,
              "ticks": ""
             }
            },
            "type": "scattergl"
           }
          ],
          "scattermapbox": [
           {
            "marker": {
             "colorbar": {
              "outlinewidth": 0,
              "ticks": ""
             }
            },
            "type": "scattermapbox"
           }
          ],
          "scatterpolar": [
           {
            "marker": {
             "colorbar": {
              "outlinewidth": 0,
              "ticks": ""
             }
            },
            "type": "scatterpolar"
           }
          ],
          "scatterpolargl": [
           {
            "marker": {
             "colorbar": {
              "outlinewidth": 0,
              "ticks": ""
             }
            },
            "type": "scatterpolargl"
           }
          ],
          "scatterternary": [
           {
            "marker": {
             "colorbar": {
              "outlinewidth": 0,
              "ticks": ""
             }
            },
            "type": "scatterternary"
           }
          ],
          "surface": [
           {
            "colorbar": {
             "outlinewidth": 0,
             "ticks": ""
            },
            "colorscale": [
             [
              0,
              "#0d0887"
             ],
             [
              0.1111111111111111,
              "#46039f"
             ],
             [
              0.2222222222222222,
              "#7201a8"
             ],
             [
              0.3333333333333333,
              "#9c179e"
             ],
             [
              0.4444444444444444,
              "#bd3786"
             ],
             [
              0.5555555555555556,
              "#d8576b"
             ],
             [
              0.6666666666666666,
              "#ed7953"
             ],
             [
              0.7777777777777778,
              "#fb9f3a"
             ],
             [
              0.8888888888888888,
              "#fdca26"
             ],
             [
              1,
              "#f0f921"
             ]
            ],
            "type": "surface"
           }
          ],
          "table": [
           {
            "cells": {
             "fill": {
              "color": "#EBF0F8"
             },
             "line": {
              "color": "white"
             }
            },
            "header": {
             "fill": {
              "color": "#C8D4E3"
             },
             "line": {
              "color": "white"
             }
            },
            "type": "table"
           }
          ]
         },
         "layout": {
          "annotationdefaults": {
           "arrowcolor": "#2a3f5f",
           "arrowhead": 0,
           "arrowwidth": 1
          },
          "autotypenumbers": "strict",
          "coloraxis": {
           "colorbar": {
            "outlinewidth": 0,
            "ticks": ""
           }
          },
          "colorscale": {
           "diverging": [
            [
             0,
             "#8e0152"
            ],
            [
             0.1,
             "#c51b7d"
            ],
            [
             0.2,
             "#de77ae"
            ],
            [
             0.3,
             "#f1b6da"
            ],
            [
             0.4,
             "#fde0ef"
            ],
            [
             0.5,
             "#f7f7f7"
            ],
            [
             0.6,
             "#e6f5d0"
            ],
            [
             0.7,
             "#b8e186"
            ],
            [
             0.8,
             "#7fbc41"
            ],
            [
             0.9,
             "#4d9221"
            ],
            [
             1,
             "#276419"
            ]
           ],
           "sequential": [
            [
             0,
             "#0d0887"
            ],
            [
             0.1111111111111111,
             "#46039f"
            ],
            [
             0.2222222222222222,
             "#7201a8"
            ],
            [
             0.3333333333333333,
             "#9c179e"
            ],
            [
             0.4444444444444444,
             "#bd3786"
            ],
            [
             0.5555555555555556,
             "#d8576b"
            ],
            [
             0.6666666666666666,
             "#ed7953"
            ],
            [
             0.7777777777777778,
             "#fb9f3a"
            ],
            [
             0.8888888888888888,
             "#fdca26"
            ],
            [
             1,
             "#f0f921"
            ]
           ],
           "sequentialminus": [
            [
             0,
             "#0d0887"
            ],
            [
             0.1111111111111111,
             "#46039f"
            ],
            [
             0.2222222222222222,
             "#7201a8"
            ],
            [
             0.3333333333333333,
             "#9c179e"
            ],
            [
             0.4444444444444444,
             "#bd3786"
            ],
            [
             0.5555555555555556,
             "#d8576b"
            ],
            [
             0.6666666666666666,
             "#ed7953"
            ],
            [
             0.7777777777777778,
             "#fb9f3a"
            ],
            [
             0.8888888888888888,
             "#fdca26"
            ],
            [
             1,
             "#f0f921"
            ]
           ]
          },
          "colorway": [
           "#636efa",
           "#EF553B",
           "#00cc96",
           "#ab63fa",
           "#FFA15A",
           "#19d3f3",
           "#FF6692",
           "#B6E880",
           "#FF97FF",
           "#FECB52"
          ],
          "font": {
           "color": "#2a3f5f"
          },
          "geo": {
           "bgcolor": "white",
           "lakecolor": "white",
           "landcolor": "#E5ECF6",
           "showlakes": true,
           "showland": true,
           "subunitcolor": "white"
          },
          "hoverlabel": {
           "align": "left"
          },
          "hovermode": "closest",
          "mapbox": {
           "style": "light"
          },
          "paper_bgcolor": "white",
          "plot_bgcolor": "#E5ECF6",
          "polar": {
           "angularaxis": {
            "gridcolor": "white",
            "linecolor": "white",
            "ticks": ""
           },
           "bgcolor": "#E5ECF6",
           "radialaxis": {
            "gridcolor": "white",
            "linecolor": "white",
            "ticks": ""
           }
          },
          "scene": {
           "xaxis": {
            "backgroundcolor": "#E5ECF6",
            "gridcolor": "white",
            "gridwidth": 2,
            "linecolor": "white",
            "showbackground": true,
            "ticks": "",
            "zerolinecolor": "white"
           },
           "yaxis": {
            "backgroundcolor": "#E5ECF6",
            "gridcolor": "white",
            "gridwidth": 2,
            "linecolor": "white",
            "showbackground": true,
            "ticks": "",
            "zerolinecolor": "white"
           },
           "zaxis": {
            "backgroundcolor": "#E5ECF6",
            "gridcolor": "white",
            "gridwidth": 2,
            "linecolor": "white",
            "showbackground": true,
            "ticks": "",
            "zerolinecolor": "white"
           }
          },
          "shapedefaults": {
           "line": {
            "color": "#2a3f5f"
           }
          },
          "ternary": {
           "aaxis": {
            "gridcolor": "white",
            "linecolor": "white",
            "ticks": ""
           },
           "baxis": {
            "gridcolor": "white",
            "linecolor": "white",
            "ticks": ""
           },
           "bgcolor": "#E5ECF6",
           "caxis": {
            "gridcolor": "white",
            "linecolor": "white",
            "ticks": ""
           }
          },
          "title": {
           "x": 0.05
          },
          "xaxis": {
           "automargin": true,
           "gridcolor": "white",
           "linecolor": "white",
           "ticks": "",
           "title": {
            "standoff": 15
           },
           "zerolinecolor": "white",
           "zerolinewidth": 2
          },
          "yaxis": {
           "automargin": true,
           "gridcolor": "white",
           "linecolor": "white",
           "ticks": "",
           "title": {
            "standoff": 15
           },
           "zerolinecolor": "white",
           "zerolinewidth": 2
          }
         }
        }
       }
      }
     },
     "metadata": {},
     "output_type": "display_data"
    }
   ],
   "source": [
    "## PCA 3D plot\n",
    "import plotly.express as px\n",
    "\n",
    "# Create a DataFrame with the transformed data and cluster labels\n",
    "df = pd.DataFrame(transformed_data, columns=['PC1', 'PC2', 'PC3'])\n",
    "df['cluster'] = clusters2\n",
    "df['drugs'] = correlations.index\n",
    "\n",
    "# Create a scatter plot\n",
    "px.scatter_3d(df, x='PC1', y='PC2', z='PC3', color='cluster', hover_name='drugs')"
   ]
  },
  {
   "cell_type": "code",
   "execution_count": 15,
   "metadata": {},
   "outputs": [],
   "source": [
    "## make a df with compound, smiles and cluster information\n",
    "smiles = pd.DataFrame.from_records(list(smiles_dict.items()), columns=['compound','smiles'])\n",
    "smiles['cluster'] = list(clusters2)"
   ]
  },
  {
   "cell_type": "code",
   "execution_count": 18,
   "metadata": {},
   "outputs": [
    {
     "name": "stdout",
     "output_type": "stream",
     "text": [
      "All the data is save it on: clusters_csvs/smiles.csv\n",
      "files are save it on: clusters_csvs/clusters_0.csv\n",
      "files are save it on: clusters_csvs/clusters_1.csv\n",
      "files are save it on: clusters_csvs/clusters_2.csv\n",
      "files are save it on: clusters_csvs/clusters_3.csv\n",
      "files are save it on: clusters_csvs/clusters_4.csv\n"
     ]
    }
   ],
   "source": [
    "## make dfs per cluster\n",
    "dfs = {i:smiles.loc[smiles['cluster'] == i] for i in range(0, n_clusters)}\n",
    "\n",
    "## save csv\n",
    "smiles.to_csv('clusters_csvs/smiles.csv')\n",
    "print('All the data is save it on: clusters_csvs/smiles.csv')\n",
    "\n",
    "for i in dfs:\n",
    "    dfs[i].to_csv('clusters_csvs/clusters_'+str(i)+'.csv')\n",
    "    print('files are save it on: clusters_csvs/clusters_'+str(i)+'.csv')"
   ]
  }
 ],
 "metadata": {
  "kernelspec": {
   "display_name": "Python 3.10.6 64-bit",
   "language": "python",
   "name": "python3"
  },
  "language_info": {
   "codemirror_mode": {
    "name": "ipython",
    "version": 3
   },
   "file_extension": ".py",
   "mimetype": "text/x-python",
   "name": "python",
   "nbconvert_exporter": "python",
   "pygments_lexer": "ipython3",
   "version": "3.10.6"
  },
  "orig_nbformat": 4,
  "vscode": {
   "interpreter": {
    "hash": "916dbcbb3f70747c44a77c7bcd40155683ae19c65e1c03b4aa3499c5328201f1"
   }
  }
 },
 "nbformat": 4,
 "nbformat_minor": 2
}
